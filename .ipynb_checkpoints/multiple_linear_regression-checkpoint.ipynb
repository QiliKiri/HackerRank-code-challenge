{
 "cells": [
  {
   "cell_type": "code",
   "execution_count": 1,
   "id": "b69a0d26-960c-460a-8a5c-3bec68093a38",
   "metadata": {},
   "outputs": [],
   "source": [
    "import numpy as np"
   ]
  },
  {
   "cell_type": "markdown",
   "id": "11bb1187-80bf-4830-9dc6-dbd5ca7bbf8c",
   "metadata": {},
   "source": [
    "get_date function get the X and y training dataset, and new X data for y prediction"
   ]
  },
  {
   "cell_type": "code",
   "execution_count": 7,
   "id": "a7182ca3-edf3-4537-8295-fab66f1ef83b",
   "metadata": {},
   "outputs": [],
   "source": [
    "def get_data():\n",
    "    # m is the number of features, n is the number of samples\n",
    "    m, n = map(int, input().strip().split())\n",
    "\n",
    "    # create X and y array for later use\n",
    "    X = np.zeros((n, m))\n",
    "    y = np.zeros((n, 1))\n",
    "    \n",
    "    # first m elements are features, last one is y\n",
    "    for i in range(n):\n",
    "        one_sample_data = list(map(float, input().strip().split()))\n",
    "        X[i, :] = one_sample_data[:m]\n",
    "        y[i, :] = one_sample_data[m:]\n",
    "    \n",
    "    # center X and y\n",
    "    X_mean = np.mean(X, axis=0)\n",
    "    y_mean = np.mean(y, axis=0)\n",
    "    X = X - X_mean\n",
    "    y = y - y_mean\n",
    "    \n",
    "    # add bias to X\n",
    "    X = np.column_stack((np.ones((n, 1)), X))\n",
    "    \n",
    "    \n",
    "    # get the number of new samples, which only contain features values.\n",
    "    k = int(input().strip())\n",
    "    \n",
    "    #create new X array\n",
    "    X_new = np.zeros((k, m))\n",
    "    \n",
    "    for i in range(k):\n",
    "        one_sample_features = list(map(float, input().strip().split()))\n",
    "        X_new[i, :] = one_sample_features[:m]\n",
    "    \n",
    "    # now, all data is ready\n",
    "    return X, X_mean, y, y_mean, X_new"
   ]
  },
  {
   "cell_type": "markdown",
   "id": "e3fe5063-ad07-4987-b4fe-bf07462fcb03",
   "metadata": {},
   "source": [
    "The pseudo inverse of X:\n",
    "<br>\n",
    "### $ X^{-1} = (X^T X)^{-1} X^T $"
   ]
  },
  {
   "cell_type": "code",
   "execution_count": 8,
   "id": "f32fdd50-906d-4c84-961a-35a9c3e0740a",
   "metadata": {},
   "outputs": [],
   "source": [
    "def pseudo_inverse(X):\n",
    "    X_pseudo_inverse = np.linalg.pinv(X.T @ X) @ X.T\n",
    "    \n",
    "    return X_pseudo_inverse"
   ]
  },
  {
   "cell_type": "markdown",
   "id": "1794bff8-5f1c-4574-8233-320e68e15e65",
   "metadata": {},
   "source": [
    "$ X \\theta = y $\n",
    "<br>\n",
    "$ \\theta = X^{-1} y $"
   ]
  },
  {
   "cell_type": "code",
   "execution_count": 9,
   "id": "9c801217-1f30-47d3-b4be-f035c7c8ac38",
   "metadata": {},
   "outputs": [],
   "source": [
    "def get_theta(X, y):\n",
    "    X_pseudo_inverse = pseudo_inverse(X)\n",
    "    theta = (X_pseudo_inverse @ y).reshape(-1, 1)\n",
    "    \n",
    "    return theta"
   ]
  },
  {
   "cell_type": "markdown",
   "id": "7d087d49-4094-4343-a900-ecb3bfb6e1a8",
   "metadata": {},
   "source": [
    "To predict new y base on new X:\n",
    "<br>\n",
    "$ X \\theta = y $"
   ]
  },
  {
   "cell_type": "code",
   "execution_count": 10,
   "id": "312b727a-7dcf-46e7-a30c-f3a6d4fa37d2",
   "metadata": {},
   "outputs": [],
   "source": [
    "def predict(X_new, X_mean, y_mean, theta):\n",
    "    # center X_new\n",
    "    X_new = X_new - X_mean\n",
    "    \n",
    "    # add bias to X_new\n",
    "    n, m = X_new.shape\n",
    "    X_new = np.column_stack((np.ones((n, 1)), X_new))\n",
    "    \n",
    "    y_predic = (X_new @ theta).reshape(-1, 1)\n",
    "    # recover the center effect\n",
    "    y_predic = y_predic + y_mean\n",
    "    \n",
    "    return y_predic"
   ]
  }
 ],
 "metadata": {
  "kernelspec": {
   "display_name": "Python 3",
   "language": "python",
   "name": "python3"
  },
  "language_info": {
   "codemirror_mode": {
    "name": "ipython",
    "version": 3
   },
   "file_extension": ".py",
   "mimetype": "text/x-python",
   "name": "python",
   "nbconvert_exporter": "python",
   "pygments_lexer": "ipython3",
   "version": "3.9.0"
  }
 },
 "nbformat": 4,
 "nbformat_minor": 5
}

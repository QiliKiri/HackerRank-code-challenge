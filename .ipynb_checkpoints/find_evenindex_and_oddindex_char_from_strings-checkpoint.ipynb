{
 "cells": [
  {
   "cell_type": "markdown",
   "id": "cbe28b37",
   "metadata": {},
   "source": [
    "## Given a string, S, of length N that is indexed from 0 to N-1, print its even-indexed and odd-indexed characters as 2 space-separated strings on a single line"
   ]
  },
  {
   "cell_type": "code",
   "execution_count": 2,
   "id": "a2b731a4",
   "metadata": {},
   "outputs": [
    {
     "name": "stdout",
     "output_type": "stream",
     "text": [
      "2\n",
      "asuna\n",
      "kirito\n",
      "aua sn\n",
      "krt iio\n"
     ]
    }
   ],
   "source": [
    "numberofstrings = int(input())\n",
    "allstrings = [ ]\n",
    "\n",
    "for i in range(numberofstrings):\n",
    "    allstrings.append(str(input()))\n",
    "\n",
    "    \n",
    "all_odd_index_char = [ ]\n",
    "all_even_index_char = [ ]\n",
    "index = 0\n",
    "\n",
    "for string in allstrings:\n",
    "    even_index_char =[]\n",
    "    odd_index_char = []\n",
    "    for i in range(len(string)):\n",
    "        if i % 2 == 0:\n",
    "            even_index_char.append(string[i])\n",
    "        if i % 2 == 1:\n",
    "            odd_index_char.append(string[i])\n",
    "    all_odd_index_char.append(''.join(odd_index_char))\n",
    "    all_even_index_char.append(''.join(even_index_char))\n",
    "    index += 1\n",
    "\n",
    "for i in range(numberofstrings):\n",
    "    print(all_even_index_char[i] + ' ' + all_odd_index_char[i])"
   ]
  },
  {
   "cell_type": "code",
   "execution_count": null,
   "id": "64500e73",
   "metadata": {},
   "outputs": [],
   "source": []
  }
 ],
 "metadata": {
  "kernelspec": {
   "display_name": "Python 3",
   "language": "python",
   "name": "python3"
  },
  "language_info": {
   "codemirror_mode": {
    "name": "ipython",
    "version": 3
   },
   "file_extension": ".py",
   "mimetype": "text/x-python",
   "name": "python",
   "nbconvert_exporter": "python",
   "pygments_lexer": "ipython3",
   "version": "3.8.5"
  }
 },
 "nbformat": 4,
 "nbformat_minor": 5
}

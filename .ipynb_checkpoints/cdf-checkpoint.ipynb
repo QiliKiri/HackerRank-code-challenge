{
 "cells": [
  {
   "cell_type": "markdown",
   "id": "dc1eea9a-3295-4a6a-a9e2-1186974c6c5f",
   "metadata": {},
   "source": [
    "# $ P(X <= L) = \\frac{1}{2} + \\frac{1}{2}erf(\\frac{x - \\mu}{\\sigma\\sqrt{2}}) $"
   ]
  },
  {
   "cell_type": "code",
   "execution_count": 1,
   "id": "9560afff-2844-4221-b051-d6530aee1eb1",
   "metadata": {},
   "outputs": [],
   "source": [
    "import math\n",
    "\n",
    "def cdf(mu, std, k):\n",
    "    f = 1/2 + 1/2 * math.erf((k - mu)/(std * math.sqrt(2)))\n",
    "    return f"
   ]
  }
 ],
 "metadata": {
  "kernelspec": {
   "display_name": "Python 3",
   "language": "python",
   "name": "python3"
  },
  "language_info": {
   "codemirror_mode": {
    "name": "ipython",
    "version": 3
   },
   "file_extension": ".py",
   "mimetype": "text/x-python",
   "name": "python",
   "nbconvert_exporter": "python",
   "pygments_lexer": "ipython3",
   "version": "3.9.0"
  }
 },
 "nbformat": 4,
 "nbformat_minor": 5
}

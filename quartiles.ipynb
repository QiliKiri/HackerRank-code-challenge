{
 "cells": [
  {
   "cell_type": "code",
   "execution_count": null,
   "id": "98db55c1",
   "metadata": {},
   "outputs": [],
   "source": [
    "def quartiles(arr):\n",
    "    \n",
    "    arr.sort()\n",
    "    mid = len(arr)/2\n",
    "    if mid == round(mid, 0):\n",
    "        lower_half = arr[:int(mid)]\n",
    "        upper_half = arr[int(mid):]\n",
    "        median = (arr[int(mid)] + arr[int(mid-1)]) / 2\n",
    "    else:\n",
    "        lower_half = arr[:int(mid-0.5)]\n",
    "        upper_half = arr[int(mid+0.5):]\n",
    "        median = arr[int(mid-0.5)]\n",
    "        \n",
    "    lower_mid = len(lower_half)/2\n",
    "    if lower_mid == round(lower_mid, 0):\n",
    "        lower_median = (lower_half[int(lower_mid)] + lower_half[int(lower_mid-1)]) / 2\n",
    "    else:\n",
    "        lower_median = lower_half[int(lower_mid-0.5)]\n",
    "        \n",
    "    upper_mid = len(upper_half)/2\n",
    "    if upper_mid == round(upper_mid, 0):\n",
    "        upper_median = (upper_half[int(upper_mid)] + upper_half[int(upper_mid-1)]) / 2\n",
    "    else:\n",
    "        upper_median = upper_half[int(upper_mid-0.5)]\n",
    "    \n",
    "    result = [lower_median, median, upper_median]"
   ]
  }
 ],
 "metadata": {
  "kernelspec": {
   "display_name": "Python 3",
   "language": "python",
   "name": "python3"
  },
  "language_info": {
   "codemirror_mode": {
    "name": "ipython",
    "version": 3
   },
   "file_extension": ".py",
   "mimetype": "text/x-python",
   "name": "python",
   "nbconvert_exporter": "python",
   "pygments_lexer": "ipython3",
   "version": "3.8.5"
  }
 },
 "nbformat": 4,
 "nbformat_minor": 5
}

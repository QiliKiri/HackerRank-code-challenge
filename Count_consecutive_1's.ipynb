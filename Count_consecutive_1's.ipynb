{
 "cells": [
  {
   "cell_type": "markdown",
   "id": "a255d333",
   "metadata": {},
   "source": [
    "### It take a base_10 integer and convert it to base_2, then count the maxium number of consecutive 1's in its base_2 form"
   ]
  },
  {
   "cell_type": "code",
   "execution_count": 1,
   "id": "a91f3376",
   "metadata": {},
   "outputs": [
    {
     "name": "stdout",
     "output_type": "stream",
     "text": [
      "35\n",
      "2\n"
     ]
    }
   ],
   "source": [
    "\n",
    "def convert_to_binary(n):\n",
    "    binary = []\n",
    "    while n >= 1:\n",
    "        binary.append(n % 2)\n",
    "        n = int(n/2)\n",
    " \n",
    "    binary = binary[::-1]\n",
    "    return binary\n",
    "\n",
    "def count_consecutive_ones(binary):\n",
    "    num_consecutive = 0\n",
    "    consecutive = []\n",
    "    for num in binary:\n",
    "        if num == 1:\n",
    "            num_consecutive += 1\n",
    "        else:\n",
    "            consecutive.append(num_consecutive)\n",
    "            num_consecutive = 0\n",
    "            \n",
    "    consecutive.append(num_consecutive)\n",
    "    max_consecutive = max(consecutive)\n",
    "    \n",
    "    return max_consecutive\n",
    "            \n",
    "\n",
    "if __name__ == '__main__':\n",
    "    n = int(input().strip())\n",
    "    binary_num = convert_to_binary(n)\n",
    "    result = count_consecutive_ones(binary_num)\n",
    "    print(result)\n",
    "    "
   ]
  }
 ],
 "metadata": {
  "kernelspec": {
   "display_name": "Python 3",
   "language": "python",
   "name": "python3"
  },
  "language_info": {
   "codemirror_mode": {
    "name": "ipython",
    "version": 3
   },
   "file_extension": ".py",
   "mimetype": "text/x-python",
   "name": "python",
   "nbconvert_exporter": "python",
   "pygments_lexer": "ipython3",
   "version": "3.8.5"
  }
 },
 "nbformat": 4,
 "nbformat_minor": 5
}

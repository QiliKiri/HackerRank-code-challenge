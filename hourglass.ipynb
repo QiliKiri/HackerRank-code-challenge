{
 "cells": [
  {
   "cell_type": "markdown",
   "id": "5713eea6",
   "metadata": {},
   "source": [
    "### Given a 6*6 2D array, A. \n",
    "### Define a hourglass is subset of A in the below pattern:\n",
    "<pre>\n",
    "a b c\n",
    "  d\n",
    "e f g\n",
    "</pre>\n",
    "### There are 16 hourglasses in A , and an hourglass sum is the sum of an hourglass' values. Calculate the hourglass sum for every hourglass in A, then print the maximum hourglass sum.\n",
    "### example :\n",
    "### input :\n",
    "<pre>\n",
    "1 1 1 0 0 0\n",
    "0 1 0 0 0 0\n",
    "1 1 1 0 0 0\n",
    "0 0 2 4 4 0\n",
    "0 0 0 2 0 0\n",
    "0 0 1 2 4 0\n",
    "</pre>\n",
    "### output:\n",
    "19"
   ]
  },
  {
   "cell_type": "code",
   "execution_count": 5,
   "id": "212a449a",
   "metadata": {},
   "outputs": [],
   "source": [
    "def form_hourglasses(arr):\n",
    "    head = []\n",
    "    body = []\n",
    "    foot = []\n",
    "    hourglass = []\n",
    "    arr = arr\n",
    "    for i in range(0,4):\n",
    "        for j in range(0,4):\n",
    "            head.append(arr[i][j:j+3])\n",
    "    \n",
    "    for i in range(1,5):\n",
    "        for j in range(1,5):\n",
    "            body.append([arr[i][j]]) #this needs to be convert to  list since arr[i][j] is just a number\n",
    "            \n",
    "    for i in range(2,6):\n",
    "        for j in range(0,4):\n",
    "            foot.append(arr[i][j:j+3])\n",
    "\n",
    "    for i in range(0,16):\n",
    "        hourglass.append(head[i] + body[i] + foot[i])\n",
    "    \n",
    "    return hourglass\n",
    "     \n",
    "def max_hourglass(hourglasses):\n",
    "    hourglasses = hourglasses\n",
    "    sum_hourglasses = []\n",
    "    \n",
    "    for item in hourglasses:\n",
    "        sum_hourglasses.append(sum(item))\n",
    "        \n",
    "    max_hourglass = max(sum_hourglasses)\n",
    "    \n",
    "    return max_hourglass"
   ]
  },
  {
   "cell_type": "code",
   "execution_count": null,
   "id": "179d855b",
   "metadata": {},
   "outputs": [],
   "source": [
    "if __name__ == '__main__':\n",
    "\n",
    "    arr = []\n",
    "\n",
    "    for _ in range(6):\n",
    "        arr.append(list(map(int, input().rstrip().split())))\n",
    "    \n",
    "    hourglasses = form_hourglasses(arr)\n",
    "    answer = max_hourglass(hourglasses)\n",
    "    print(answer)\n",
    "    "
   ]
  },
  {
   "cell_type": "code",
   "execution_count": null,
   "id": "f3445730",
   "metadata": {},
   "outputs": [],
   "source": []
  }
 ],
 "metadata": {
  "kernelspec": {
   "display_name": "Python 3",
   "language": "python",
   "name": "python3"
  },
  "language_info": {
   "codemirror_mode": {
    "name": "ipython",
    "version": 3
   },
   "file_extension": ".py",
   "mimetype": "text/x-python",
   "name": "python",
   "nbconvert_exporter": "python",
   "pygments_lexer": "ipython3",
   "version": "3.8.5"
  }
 },
 "nbformat": 4,
 "nbformat_minor": 5
}

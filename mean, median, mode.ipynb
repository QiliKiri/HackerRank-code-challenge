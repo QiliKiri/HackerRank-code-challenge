{
 "cells": [
  {
   "cell_type": "code",
   "execution_count": 2,
   "id": "889b0e97",
   "metadata": {},
   "outputs": [],
   "source": [
    "def calculate_mode(arr):\n",
    "    arr_set = set(arr)\n",
    "    arr_list = list(arr_set)\n",
    "    arr_list.sort()\n",
    "    dic = {}\n",
    "    for i in arr_list:\n",
    "     dic.update({i:arr.count(i)})\n",
    "\n",
    "    most_key = None\n",
    "    most_val = None\n",
    "    for key, val in dic.items():\n",
    "        if most_key == None:\n",
    "            most_key = key\n",
    "            most_val = val\n",
    "        elif val > most_val:\n",
    "            most_key = key\n",
    "            most_val = val\n",
    "    return int(most_key)\n",
    "\n",
    "def calculate_mean(arr):\n",
    "    mean = sum(arr) / len(arr)\n",
    "    return round(mean, 1)\n",
    "\n",
    "def calculate_median(arr):\n",
    "    arr.sort()\n",
    "    mid = len(arr)/2 - 1\n",
    "    if mid == round(mid, 0):\n",
    "        mid = int(mid)\n",
    "        median = (arr[mid] + arr[mid+1]) / 2\n",
    "        return round(median, 1)\n",
    "    else:\n",
    "        mid = mid + 0.5\n",
    "        mid = int(mid)\n",
    "        median = arr[mid]\n",
    "        return round(median, 1)"
   ]
  },
  {
   "cell_type": "code",
   "execution_count": null,
   "id": "2151d755",
   "metadata": {},
   "outputs": [],
   "source": [
    "n = int(input().strip())\n",
    "arr = input().split(' ')\n",
    "for i in range(len(arr)):\n",
    "    arr[i] = float(arr[i])\n",
    "\n",
    "mean = calculate_mean(arr)\n",
    "median = calculate_median(arr)\n",
    "mode = calculate_mode(arr)\n",
    "print(mean)\n",
    "print(median)\n",
    "print(mode)"
   ]
  }
 ],
 "metadata": {
  "kernelspec": {
   "display_name": "Python 3",
   "language": "python",
   "name": "python3"
  },
  "language_info": {
   "codemirror_mode": {
    "name": "ipython",
    "version": 3
   },
   "file_extension": ".py",
   "mimetype": "text/x-python",
   "name": "python",
   "nbconvert_exporter": "python",
   "pygments_lexer": "ipython3",
   "version": "3.8.5"
  }
 },
 "nbformat": 4,
 "nbformat_minor": 5
}

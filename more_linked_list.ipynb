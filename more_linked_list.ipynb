{
 "cells": [
  {
   "cell_type": "code",
   "execution_count": null,
   "id": "661d9141-fdbe-4e44-ba9c-b19525c68330",
   "metadata": {},
   "outputs": [],
   "source": [
    "class Node:\n",
    "    def __init__(self,data):\n",
    "        self.data = data\n",
    "        self.next = None \n",
    "        \n",
    "class Solution: \n",
    "    def insert(self,head,data):\n",
    "            p = Node(data)           \n",
    "            if head==None:\n",
    "                head=p\n",
    "            elif head.next==None:\n",
    "                head.next=p\n",
    "            else:\n",
    "                start=head\n",
    "                while(start.next!=None):\n",
    "                    start=start.next\n",
    "                start.next=p\n",
    "                \n",
    "            return head  \n",
    "        \n",
    "    def display(self,head):\n",
    "        current = head\n",
    "        while current:\n",
    "            print(current.data,end=' ')\n",
    "            current = current.next\n",
    "\n",
    "    def removeDuplicates(self,head):\n",
    "        standPoint = head\n",
    "        curr = head\n",
    "        while curr is not None and curr.next is not None:\n",
    "            while curr.next is not None and curr.data is curr.next.data:\n",
    "                curr.next = curr.next.next\n",
    "            curr = curr.next\n",
    "            \n",
    "        return head"
   ]
  }
 ],
 "metadata": {
  "kernelspec": {
   "display_name": "Python 3",
   "language": "python",
   "name": "python3"
  },
  "language_info": {
   "codemirror_mode": {
    "name": "ipython",
    "version": 3
   },
   "file_extension": ".py",
   "mimetype": "text/x-python",
   "name": "python",
   "nbconvert_exporter": "python",
   "pygments_lexer": "ipython3",
   "version": "3.9.0"
  }
 },
 "nbformat": 4,
 "nbformat_minor": 5
}
